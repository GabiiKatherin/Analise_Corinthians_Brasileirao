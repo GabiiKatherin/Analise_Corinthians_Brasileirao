{
  "nbformat": 4,
  "nbformat_minor": 0,
  "metadata": {
    "colab": {
      "provenance": [],
      "authorship_tag": "ABX9TyPSVe0XwpuWenBbhHYJ3l71",
      "include_colab_link": true
    },
    "kernelspec": {
      "name": "python3",
      "display_name": "Python 3"
    },
    "language_info": {
      "name": "python"
    }
  },
  "cells": [
    {
      "cell_type": "markdown",
      "metadata": {
        "id": "view-in-github",
        "colab_type": "text"
      },
      "source": [
        "<a href=\"https://colab.research.google.com/github/GabiiKatherin/Analise_Corinthians_Brasileirao/blob/main/Analise_de_dados_Corinthians.ipynb\" target=\"_parent\"><img src=\"https://colab.research.google.com/assets/colab-badge.svg\" alt=\"Open In Colab\"/></a>"
      ]
    },
    {
      "cell_type": "markdown",
      "source": [
        "1. Instalando bibliotecas:"
      ],
      "metadata": {
        "id": "I8qMeaUSWCaJ"
      }
    },
    {
      "cell_type": "code",
      "execution_count": 2,
      "metadata": {
        "colab": {
          "base_uri": "https://localhost:8080/"
        },
        "id": "Z3pvi9XqdGss",
        "outputId": "cddcb4a8-040c-46a3-c236-22713943c7a1"
      },
      "outputs": [
        {
          "output_type": "stream",
          "name": "stdout",
          "text": [
            "Requirement already satisfied: beautifulsoup4 in /usr/local/lib/python3.10/dist-packages (4.12.3)\n",
            "Requirement already satisfied: soupsieve>1.2 in /usr/local/lib/python3.10/dist-packages (from beautifulsoup4) (2.6)\n"
          ]
        }
      ],
      "source": [
        "#instalando bibliotecas:\n",
        "!pip install beautifulsoup4\n",
        "\n",
        "import requests\n",
        "#O BeautifulSoup é pra analisar e extrair dados do HTML ou XML\n",
        "from bs4 import BeautifulSoup\n",
        "import pandas as pd"
      ]
    },
    {
      "cell_type": "markdown",
      "source": [
        "2. Webscraping e consolidação dos dados:"
      ],
      "metadata": {
        "id": "n1ejkjMHWNIn"
      }
    },
    {
      "cell_type": "code",
      "source": [
        "#definindo as urls com os dados:\n",
        "url_gols = 'https://www.espn.com.br/futebol/time/estatisticas/_/id/874/liga/BRA.1/vista'\n",
        "url_cartoes = 'https://www.espn.com.br/futebol/time/estatisticas/_/id/874/liga/BRA.1/vista/cartoes'\n",
        "url_rendimento = 'https://www.espn.com.br/futebol/time/estatisticas/_/id/874/liga/BRA.1/vista/rendimento'"
      ],
      "metadata": {
        "id": "2y6ANZmSdagZ"
      },
      "execution_count": 3,
      "outputs": []
    },
    {
      "cell_type": "code",
      "source": [
        "#requisicao HTTP\n",
        "response = requests.get(url_gols)\n",
        "soup = BeautifulSoup(response.text, 'html.parser')"
      ],
      "metadata": {
        "id": "J9yuXs4hdr8O"
      },
      "execution_count": 4,
      "outputs": []
    },
    {
      "cell_type": "code",
      "source": [
        "#procurando a tabela pela tag <table> - me certifiquei disso inspecionando o elemento na página\n",
        "tables = soup.find_all('table')"
      ],
      "metadata": {
        "id": "9b66SwNNeEeQ"
      },
      "execution_count": 5,
      "outputs": []
    },
    {
      "cell_type": "code",
      "source": [
        "#converte a tabela num Dataframe:\n",
        "#a função read_html é do Pandas e basicamente converte o conteúdo HTML da tala num Dataframe.\n",
        "df_list = []\n",
        "for table in tables:\n",
        "    df = pd.read_html(str(table))[0]\n",
        "    df_list.append(df)"
      ],
      "metadata": {
        "id": "GCcvgR8HePbn"
      },
      "execution_count": 6,
      "outputs": []
    },
    {
      "cell_type": "code",
      "source": [
        "print(df_list[0])"
      ],
      "metadata": {
        "id": "hSmGWLHEelUu"
      },
      "execution_count": null,
      "outputs": []
    },
    {
      "cell_type": "markdown",
      "source": [
        "Essa etapa acusou um erro, dizendo que não havia nada na minha tabela, provavelmente porque os dados não foram capturados como eu gostaria. Então, fui testar e fazer uma exibição do que estava sendo capturado e identificar o problema."
      ],
      "metadata": {
        "id": "igE1sXzEfS3o"
      }
    },
    {
      "cell_type": "code",
      "source": [
        "#verificar o que foi capturado:\n",
        "print(soup.prettify()[:1000])  #top 1000"
      ],
      "metadata": {
        "colab": {
          "base_uri": "https://localhost:8080/"
        },
        "id": "06-HMELke54Q",
        "outputId": "bae1b3a5-3a69-42dd-e23d-ff996d85e8c4"
      },
      "execution_count": 7,
      "outputs": [
        {
          "output_type": "stream",
          "name": "stdout",
          "text": [
            "<!DOCTYPE HTML PUBLIC \"-//W3C//DTD HTML 4.01 Transitional//EN\" \"http://www.w3.org/TR/html4/loose.dtd\">\n",
            "<html>\n",
            " <head>\n",
            "  <meta content=\"text/html; charset=utf-8\" http-equiv=\"Content-Type\"/>\n",
            "  <title>\n",
            "   ERROR: The request could not be satisfied\n",
            "  </title>\n",
            " </head>\n",
            " <body>\n",
            "  <h1>\n",
            "   403 ERROR\n",
            "  </h1>\n",
            "  <h2>\n",
            "   The request could not be satisfied.\n",
            "  </h2>\n",
            "  <hr noshade=\"\" size=\"1px\"/>\n",
            "  Request blocked.\n",
            "We can't connect to the server for this app or website at this time. There might be too much traffic or a configuration error. Try again later, or contact the app or website owner.\n",
            "  <br clear=\"all\"/>\n",
            "  If you provide content to customers through CloudFront, you can find steps to troubleshoot and help prevent this error by reviewing the CloudFront documentation.\n",
            "  <br clear=\"all\"/>\n",
            "  <hr noshade=\"\" size=\"1px\"/>\n",
            "  <pre>\n",
            "Generated by cloudfront (CloudFront)\n",
            "Request ID: MW9ROR5__osXiBVKkcCBWQB4UzbwZXeanQdiMNpJSiynSDonrzlR2Q==\n",
            "</pre>\n",
            "  <address>\n",
            "  </address>\n",
            " </body>\n",
            "</html>\n",
            "\n"
          ]
        }
      ]
    },
    {
      "cell_type": "markdown",
      "source": [
        "Isso aqui é interessante! O que aconteceu foi que a minha requisição foi bloqueada pelo servidor. Provavelmente, porque ele está evitando acessos automatizados por scripts de scraping, uma medida de segurança super válida, inclusive.\n",
        "\n",
        "Decidi testar mudar o User-Agent e em vez de usar o request padrão, imitar um navegador real."
      ],
      "metadata": {
        "id": "wnwYMlZ_fiM2"
      }
    },
    {
      "cell_type": "code",
      "source": [
        "#Define um cabeçalho HTTP para simular uma requisição feita por um navegador.\n",
        "#O User-Agent especifica as informações do navegador e do sistema operacional\n",
        "headers = {\n",
        "    'User-Agent': 'Mozilla/5.0 (Windows NT 10.0; Win64; x64) AppleWebKit/537.36 (KHTML, like Gecko) Chrome/91.0.4472.124 Safari/537.36'\n",
        "}\n",
        "#Faz uma requisição GET na url que eu defini antes\n",
        "response_g = requests.get(url_gols, headers=headers)\n",
        "response_c = requests.get(url_cartoes, headers=headers)\n",
        "response_r = requests.get(url_rendimento, headers=headers)\n",
        "\n",
        "#Converte o HTML num soup - facilita a manipulação e extração dos dados.\n",
        "soup_g = BeautifulSoup(response_g.text, 'html.parser')\n",
        "soup_c = BeautifulSoup(response_c.text, 'html.parser')\n",
        "soup_r = BeautifulSoup(response_r.text, 'html.parser')"
      ],
      "metadata": {
        "id": "X2ZVEzHOgHS2"
      },
      "execution_count": 8,
      "outputs": []
    },
    {
      "cell_type": "code",
      "source": [
        "#encontrando minhas tabelas:\n",
        "tables = soup_g.find_all('table')\n",
        "print(f\"Total de tabelas encontradas: {len(tables)}\")"
      ],
      "metadata": {
        "colab": {
          "base_uri": "https://localhost:8080/"
        },
        "id": "gtvWs_vMgrlh",
        "outputId": "ed779189-ec6b-4ab5-efee-0dcf7f593982"
      },
      "execution_count": 9,
      "outputs": [
        {
          "output_type": "stream",
          "name": "stdout",
          "text": [
            "Total de tabelas encontradas: 2\n"
          ]
        }
      ]
    },
    {
      "cell_type": "markdown",
      "source": [
        "Como eu tenho mais de uma tabela, vou precisar de uma estrutura de repetição para capturar todas elas."
      ],
      "metadata": {
        "id": "e2NAUBxitVVE"
      }
    },
    {
      "cell_type": "code",
      "source": [
        "for t, table in enumerate(tables):\n",
        "    df_gols = pd.read_html(str(table))[0]\n",
        "    print(f\"Tabela {t+1}:\")\n",
        "    print(df_gols)"
      ],
      "metadata": {
        "colab": {
          "base_uri": "https://localhost:8080/"
        },
        "id": "gz65-Y5JhcvD",
        "outputId": "533d1a1f-1b48-472a-cb0a-e8ee602a5469"
      },
      "execution_count": 10,
      "outputs": [
        {
          "output_type": "stream",
          "name": "stdout",
          "text": [
            "Tabela 1:\n",
            "     POS              Nome   J  G\n",
            "0    1.0     Rodrigo Garro  25  5\n",
            "1    NaN      Ángel Romero  19  5\n",
            "2    3.0      Yuri Alberto  20  4\n",
            "3    4.0              Cacá  21  3\n",
            "4    5.0    Wesley Ribeiro  23  2\n",
            "5    NaN      Talles Magno   6  2\n",
            "6    7.0     Igor Coronado  22  1\n",
            "7    NaN      Matheus Bidu  12  1\n",
            "8    NaN           Giovane  11  1\n",
            "9    NaN    Pedro Henrique  10  1\n",
            "10  11.0           Raniele  23  0\n",
            "11   NaN              Hugo  22  0\n",
            "12   NaN        Mateuzinho  22  0\n",
            "13   NaN       Breno Bidon  18  0\n",
            "14   NaN      Félix Torres  17  0\n",
            "15   NaN        Pedro Raúl  17  0\n",
            "16   NaN            Fagner  12  0\n",
            "17   NaN        Hugo Souza  11  0\n",
            "18   NaN              Ryan  11  0\n",
            "19   NaN  Gustavo Henrique  10  0\n",
            "20   NaN     André Ramalho   9  0\n",
            "21   NaN   Matheus Donelli   7  0\n",
            "22   NaN     Carlos Miguel   6  0\n",
            "23   NaN           Charles   6  0\n",
            "Tabela 2:\n",
            "     POS              Nome   J  A\n",
            "0    1.0     Rodrigo Garro  25  4\n",
            "1    NaN              Hugo  22  4\n",
            "2    NaN      Yuri Alberto  20  4\n",
            "3    4.0     Igor Coronado  22  2\n",
            "4    NaN              Cacá  21  2\n",
            "5    6.0    Wesley Ribeiro  23  1\n",
            "6    NaN            Fagner  12  1\n",
            "7    NaN      Matheus Bidu  12  1\n",
            "8    NaN    Pedro Henrique  10  1\n",
            "9   10.0           Raniele  23  0\n",
            "10   NaN        Mateuzinho  22  0\n",
            "11   NaN      Ángel Romero  19  0\n",
            "12   NaN       Breno Bidon  18  0\n",
            "13   NaN      Félix Torres  17  0\n",
            "14   NaN        Pedro Raúl  17  0\n",
            "15   NaN        Hugo Souza  11  0\n",
            "16   NaN              Ryan  11  0\n",
            "17   NaN           Giovane  11  0\n",
            "18   NaN  Gustavo Henrique  10  0\n",
            "19   NaN     André Ramalho   9  0\n",
            "20   NaN   Matheus Donelli   7  0\n",
            "21   NaN     Carlos Miguel   6  0\n",
            "22   NaN           Charles   6  0\n"
          ]
        },
        {
          "output_type": "stream",
          "name": "stderr",
          "text": [
            "<ipython-input-10-a67a650f79a4>:2: FutureWarning: Passing literal html to 'read_html' is deprecated and will be removed in a future version. To read from a literal string, wrap it in a 'StringIO' object.\n",
            "  df_gols = pd.read_html(str(table))[0]\n",
            "<ipython-input-10-a67a650f79a4>:2: FutureWarning: Passing literal html to 'read_html' is deprecated and will be removed in a future version. To read from a literal string, wrap it in a 'StringIO' object.\n",
            "  df_gols = pd.read_html(str(table))[0]\n"
          ]
        }
      ]
    },
    {
      "cell_type": "markdown",
      "source": [
        "Como as tabelas são muito parecidas, eu vou associá-las incluindo as colunas de Gols e Assistência num DataFrame consolidado. Pra isso, eu começo executando novamente a chamada do DataFrame, mas desta vez, criando uma variável temporária para armazenar essas tabelas."
      ],
      "metadata": {
        "id": "PoxQCpZjkURj"
      }
    },
    {
      "cell_type": "code",
      "source": [
        "#Crio as variáveis:\n",
        "df_gols = pd.DataFrame()\n",
        "df_assistencia = pd.DataFrame()\n",
        "\n",
        "#Eu chamo meu for novamente\n",
        "for t, table in enumerate(soup_g.find_all('table')):\n",
        "    df_temp = pd.read_html(str(table))[0]\n",
        "#Porém, eu atribuo à essa tabela criada anteriormente às tabelas geradas nos ciclos dos loops t==0 e t==1\n",
        "    if t == 0:\n",
        "        df_gols = df_temp  # Armazenar a tabela de gols\n",
        "    elif t == 1:\n",
        "        df_assistencia = df_temp  # Armazenar a tabela de assistências\n",
        "\n",
        "    # Exibir a tabela temporária\n",
        "    print(f\"Tabela {t+1}:\")\n",
        "    print(df_temp)"
      ],
      "metadata": {
        "colab": {
          "base_uri": "https://localhost:8080/"
        },
        "id": "EdQAJmy7kE3R",
        "outputId": "25e98fd6-89e2-4cd8-c551-17e7dc005cef"
      },
      "execution_count": 11,
      "outputs": [
        {
          "output_type": "stream",
          "name": "stdout",
          "text": [
            "Tabela 1:\n",
            "     POS              Nome   J  G\n",
            "0    1.0     Rodrigo Garro  25  5\n",
            "1    NaN      Ángel Romero  19  5\n",
            "2    3.0      Yuri Alberto  20  4\n",
            "3    4.0              Cacá  21  3\n",
            "4    5.0    Wesley Ribeiro  23  2\n",
            "5    NaN      Talles Magno   6  2\n",
            "6    7.0     Igor Coronado  22  1\n",
            "7    NaN      Matheus Bidu  12  1\n",
            "8    NaN           Giovane  11  1\n",
            "9    NaN    Pedro Henrique  10  1\n",
            "10  11.0           Raniele  23  0\n",
            "11   NaN              Hugo  22  0\n",
            "12   NaN        Mateuzinho  22  0\n",
            "13   NaN       Breno Bidon  18  0\n",
            "14   NaN      Félix Torres  17  0\n",
            "15   NaN        Pedro Raúl  17  0\n",
            "16   NaN            Fagner  12  0\n",
            "17   NaN        Hugo Souza  11  0\n",
            "18   NaN              Ryan  11  0\n",
            "19   NaN  Gustavo Henrique  10  0\n",
            "20   NaN     André Ramalho   9  0\n",
            "21   NaN   Matheus Donelli   7  0\n",
            "22   NaN     Carlos Miguel   6  0\n",
            "23   NaN           Charles   6  0\n",
            "Tabela 2:\n",
            "     POS              Nome   J  A\n",
            "0    1.0     Rodrigo Garro  25  4\n",
            "1    NaN              Hugo  22  4\n",
            "2    NaN      Yuri Alberto  20  4\n",
            "3    4.0     Igor Coronado  22  2\n",
            "4    NaN              Cacá  21  2\n",
            "5    6.0    Wesley Ribeiro  23  1\n",
            "6    NaN            Fagner  12  1\n",
            "7    NaN      Matheus Bidu  12  1\n",
            "8    NaN    Pedro Henrique  10  1\n",
            "9   10.0           Raniele  23  0\n",
            "10   NaN        Mateuzinho  22  0\n",
            "11   NaN      Ángel Romero  19  0\n",
            "12   NaN       Breno Bidon  18  0\n",
            "13   NaN      Félix Torres  17  0\n",
            "14   NaN        Pedro Raúl  17  0\n",
            "15   NaN        Hugo Souza  11  0\n",
            "16   NaN              Ryan  11  0\n",
            "17   NaN           Giovane  11  0\n",
            "18   NaN  Gustavo Henrique  10  0\n",
            "19   NaN     André Ramalho   9  0\n",
            "20   NaN   Matheus Donelli   7  0\n",
            "21   NaN     Carlos Miguel   6  0\n",
            "22   NaN           Charles   6  0\n"
          ]
        },
        {
          "output_type": "stream",
          "name": "stderr",
          "text": [
            "<ipython-input-11-817a6b2665e9>:7: FutureWarning: Passing literal html to 'read_html' is deprecated and will be removed in a future version. To read from a literal string, wrap it in a 'StringIO' object.\n",
            "  df_temp = pd.read_html(str(table))[0]\n",
            "<ipython-input-11-817a6b2665e9>:7: FutureWarning: Passing literal html to 'read_html' is deprecated and will be removed in a future version. To read from a literal string, wrap it in a 'StringIO' object.\n",
            "  df_temp = pd.read_html(str(table))[0]\n"
          ]
        }
      ]
    },
    {
      "cell_type": "markdown",
      "source": [
        "Em seguida, eu de fato uso o pd.merge para unificar os dados e deixar o DataFrame como eu gostaria de manipulá-lo."
      ],
      "metadata": {
        "id": "zmCe4EmKn-w2"
      }
    },
    {
      "cell_type": "code",
      "source": [
        "#pd.merge para unificar:\n",
        "df_unificado = pd.merge(df_gols, df_assistencia, on=['Nome'], how='outer', suffixes=('_gols', '_assist'))\n",
        "pd.set_option('display.float_format', '{:.0f}'.format)\n",
        "\n",
        "#Substituo NaN por zero.\n",
        "df_unificado.fillna(0, inplace=True)\n",
        "#Personalizo as colunas:\n",
        "df_unificado = df_unificado[['POS_gols', 'Nome', 'J_assist','J_gols', 'A', 'G']]\n",
        "\n",
        "# Exibir o DataFrame unificado\n",
        "print(\"Tabela Unificada:\")\n",
        "print(df_unificado)"
      ],
      "metadata": {
        "colab": {
          "base_uri": "https://localhost:8080/"
        },
        "id": "O28YgroznIwM",
        "outputId": "585b207c-f22f-4ea1-8af2-7c051ec92a7b"
      },
      "execution_count": 12,
      "outputs": [
        {
          "output_type": "stream",
          "name": "stdout",
          "text": [
            "Tabela Unificada:\n",
            "    POS_gols              Nome  J_assist  J_gols  A  G\n",
            "0          1     Rodrigo Garro        25      25  4  5\n",
            "1          0      Ángel Romero        19      19  0  5\n",
            "2          3      Yuri Alberto        20      20  4  4\n",
            "3          4              Cacá        21      21  2  3\n",
            "4          5    Wesley Ribeiro        23      23  1  2\n",
            "5          0      Talles Magno         0       6  0  2\n",
            "6          7     Igor Coronado        22      22  2  1\n",
            "7          0      Matheus Bidu        12      12  1  1\n",
            "8          0           Giovane        11      11  0  1\n",
            "9          0    Pedro Henrique        10      10  1  1\n",
            "10        11           Raniele        23      23  0  0\n",
            "11         0              Hugo        22      22  4  0\n",
            "12         0        Mateuzinho        22      22  0  0\n",
            "13         0       Breno Bidon        18      18  0  0\n",
            "14         0      Félix Torres        17      17  0  0\n",
            "15         0        Pedro Raúl        17      17  0  0\n",
            "16         0            Fagner        12      12  1  0\n",
            "17         0        Hugo Souza        11      11  0  0\n",
            "18         0              Ryan        11      11  0  0\n",
            "19         0  Gustavo Henrique        10      10  0  0\n",
            "20         0     André Ramalho         9       9  0  0\n",
            "21         0   Matheus Donelli         7       7  0  0\n",
            "22         0     Carlos Miguel         6       6  0  0\n",
            "23         0           Charles         6       6  0  0\n"
          ]
        }
      ]
    },
    {
      "cell_type": "code",
      "source": [
        "tables = soup_c.find_all('table')\n",
        "\n",
        "df_cartoes = pd.read_html(str(tables[0]))[0]\n",
        "print(\"Tabela de Cartoes:\")\n",
        "print(df_cartoes)"
      ],
      "metadata": {
        "colab": {
          "base_uri": "https://localhost:8080/"
        },
        "id": "u4qvRm5euQ39",
        "outputId": "3b05841a-8c33-4a9b-d0b9-311e3b6a746e"
      },
      "execution_count": 13,
      "outputs": [
        {
          "output_type": "stream",
          "name": "stdout",
          "text": [
            "Tabela de Cartoes:\n",
            "    POS              Nome   J  CA  CV  pts\n",
            "0     1  Gustavo Henrique  10   5   1    8\n",
            "1     2           Raniele  23   6   0    6\n",
            "2   NaN              Cacá  21   3   1    6\n",
            "3     4      Alex Santana   8   4   0    4\n",
            "4   NaN     Igor Coronado  22   4   0    4\n",
            "5   NaN           Caetano   5   1   1    4\n",
            "6     7           Charles   6   3   0    3\n",
            "7   NaN      Félix Torres  17   3   0    3\n",
            "8   NaN     André Ramalho   9   3   0    3\n",
            "9    10              Hugo  22   2   0    2\n",
            "10  NaN        Mateuzinho  22   2   0    2\n",
            "11  NaN        Hugo Souza  11   2   0    2\n",
            "12   13            Maycon   2   1   0    1\n",
            "13  NaN          Léo Mana   5   1   0    1\n",
            "14  NaN      Matheus Bidu  12   1   0    1\n",
            "15  NaN            Fagner  12   1   0    1\n",
            "16   17     Renato Santos   0   0   0    0\n",
            "17  NaN    Diego Palacios   0   0   0    0\n",
            "18  NaN      Felipe Longo   0   0   0    0\n",
            "19  NaN   Matheus Donelli   7   0   0    0\n"
          ]
        },
        {
          "output_type": "stream",
          "name": "stderr",
          "text": [
            "<ipython-input-13-be9983ee573f>:3: FutureWarning: Passing literal html to 'read_html' is deprecated and will be removed in a future version. To read from a literal string, wrap it in a 'StringIO' object.\n",
            "  df_cartoes = pd.read_html(str(tables[0]))[0]\n"
          ]
        }
      ]
    },
    {
      "cell_type": "code",
      "source": [
        "#pd.merge para unificar:\n",
        "df_unificado = pd.merge(df_unificado, df_cartoes, on=['Nome'], how='outer', suffixes=('', '_cartoes'))\n",
        "\n",
        "pd.set_option('display.float_format', '{:.0f}'.format)\n",
        "df_unificado.fillna(0, inplace=True)\n",
        "\n",
        "df_unificado = df_unificado[['POS_gols', 'Nome', 'J_assist','A','J_gols','G','J_cartoes','CA','CV', 'pts']]\n",
        "df_jogadores = df_unificado\n",
        "print(df_jogadores)"
      ],
      "metadata": {
        "colab": {
          "base_uri": "https://localhost:8080/"
        },
        "id": "xrSGzWqSqtf_",
        "outputId": "8fab2398-1547-4406-c7f4-de1d4db99837"
      },
      "execution_count": 18,
      "outputs": [
        {
          "output_type": "stream",
          "name": "stdout",
          "text": [
            "    POS_gols              Nome  J_assist  A  J_gols  G  J_cartoes  CA  CV  pts\n",
            "0          1     Rodrigo Garro        25  4      25  5          0   0   0    0\n",
            "1          0      Ángel Romero        19  0      19  5          0   0   0    0\n",
            "2          3      Yuri Alberto        20  4      20  4          0   0   0    0\n",
            "3          4              Cacá        21  2      21  3         21   3   1    6\n",
            "4          5    Wesley Ribeiro        23  1      23  2          0   0   0    0\n",
            "5          0      Talles Magno         0  0       6  2          0   0   0    0\n",
            "6          7     Igor Coronado        22  2      22  1         22   4   0    4\n",
            "7          0      Matheus Bidu        12  1      12  1         12   1   0    1\n",
            "8          0           Giovane        11  0      11  1          0   0   0    0\n",
            "9          0    Pedro Henrique        10  1      10  1          0   0   0    0\n",
            "10        11           Raniele        23  0      23  0         23   6   0    6\n",
            "11         0              Hugo        22  4      22  0         22   2   0    2\n",
            "12         0        Mateuzinho        22  0      22  0         22   2   0    2\n",
            "13         0       Breno Bidon        18  0      18  0          0   0   0    0\n",
            "14         0      Félix Torres        17  0      17  0         17   3   0    3\n",
            "15         0        Pedro Raúl        17  0      17  0          0   0   0    0\n",
            "16         0            Fagner        12  1      12  0         12   1   0    1\n",
            "17         0        Hugo Souza        11  0      11  0         11   2   0    2\n",
            "18         0              Ryan        11  0      11  0          0   0   0    0\n",
            "19         0  Gustavo Henrique        10  0      10  0         10   5   1    8\n",
            "20         0     André Ramalho         9  0       9  0          9   3   0    3\n",
            "21         0   Matheus Donelli         7  0       7  0          7   0   0    0\n",
            "22         0     Carlos Miguel         6  0       6  0          0   0   0    0\n",
            "23         0           Charles         6  0       6  0          6   3   0    3\n",
            "24         0      Alex Santana         0  0       0  0          8   4   0    4\n",
            "25         0           Caetano         0  0       0  0          5   1   1    4\n",
            "26         0            Maycon         0  0       0  0          2   1   0    1\n",
            "27         0          Léo Mana         0  0       0  0          5   1   0    1\n",
            "28         0     Renato Santos         0  0       0  0          0   0   0    0\n",
            "29         0    Diego Palacios         0  0       0  0          0   0   0    0\n",
            "30         0      Felipe Longo         0  0       0  0          0   0   0    0\n"
          ]
        }
      ]
    },
    {
      "cell_type": "code",
      "source": [
        "#encontrando minhas tabelas:\n",
        "tables = soup_r.find_all('table')\n",
        "print(f\"Total de tabelas encontradas: {len(tables)}\")"
      ],
      "metadata": {
        "colab": {
          "base_uri": "https://localhost:8080/"
        },
        "id": "P6HxdwqH0ay0",
        "outputId": "7614a7c1-6f20-4d39-9e58-e2d42b92b805"
      },
      "execution_count": 15,
      "outputs": [
        {
          "output_type": "stream",
          "name": "stdout",
          "text": [
            "Total de tabelas encontradas: 3\n"
          ]
        }
      ]
    },
    {
      "cell_type": "code",
      "source": [
        "for t, table in enumerate(tables):\n",
        "    df_rendimento = pd.read_html(str(table))[0]\n",
        "    print(f\"Tabela {t+1}:\")\n",
        "    print(df_rendimento)"
      ],
      "metadata": {
        "colab": {
          "base_uri": "https://localhost:8080/"
        },
        "id": "L362Jz8o0Q7d",
        "outputId": "490c30d6-0bd8-4231-98d0-9cd2a9a7a94f"
      },
      "execution_count": 16,
      "outputs": [
        {
          "output_type": "stream",
          "name": "stdout",
          "text": [
            "Tabela 1:\n",
            "           Categoria  Gols                               Jogo          Datas\n",
            "0       Gols pró (M)     3   CORCorinthians3 - 0FLUFluminense  dom., 28 abr.\n",
            "1       Gols pró (V)     2  AGOAtlético-GO2 - 2CORCorinthians  ter., 11 jun.\n",
            "2    Gols contra (M)     2    CORCorinthians2 - 2SAOSão Paulo  dom., 16 jun.\n",
            "3    Gols contra (V)     3     CRUCruzeiro3 - 0CORCorinthians   dom., 7 jul.\n",
            "4  Margem de Vitória     3   CORCorinthians3 - 0FLUFluminense  dom., 28 abr.\n",
            "5  Margem de Derrota     3     CRUCruzeiro3 - 0CORCorinthians   dom., 7 jul.\n",
            "Tabela 2:\n",
            "                       Categoria  Partidas\n",
            "0    Maior sequência de vitórias         2\n",
            "1    Atual sequência de vitórias         1\n",
            "2        Maior sequência invicta         3\n",
            "3        Atual sequência invicta         1\n",
            "4    Maior sequência de derrotas         2\n",
            "5    Atual sequência de derrotas         0\n",
            "6   Maior sequência sem vitórias         9\n",
            "7  Actual sequência sem vitórias         0\n",
            "Tabela 3:\n",
            "          Categoria      PT                               Jogo          Datas\n",
            "0     Maior Público   46001  CORCorinthians3 - 0AGOAtlético-GO  sáb., 21 set.\n",
            "1     Menor Público   37689      CORCorinthians3 - 2VITVitória   qui., 4 jul.\n",
            "2  Média de público   42788                                  -              -\n",
            "3    Total agregado  556255                                  -              -\n"
          ]
        },
        {
          "output_type": "stream",
          "name": "stderr",
          "text": [
            "<ipython-input-16-3d1d8d0a6f26>:2: FutureWarning: Passing literal html to 'read_html' is deprecated and will be removed in a future version. To read from a literal string, wrap it in a 'StringIO' object.\n",
            "  df_rendimento = pd.read_html(str(table))[0]\n",
            "<ipython-input-16-3d1d8d0a6f26>:2: FutureWarning: Passing literal html to 'read_html' is deprecated and will be removed in a future version. To read from a literal string, wrap it in a 'StringIO' object.\n",
            "  df_rendimento = pd.read_html(str(table))[0]\n",
            "<ipython-input-16-3d1d8d0a6f26>:2: FutureWarning: Passing literal html to 'read_html' is deprecated and will be removed in a future version. To read from a literal string, wrap it in a 'StringIO' object.\n",
            "  df_rendimento = pd.read_html(str(table))[0]\n"
          ]
        }
      ]
    },
    {
      "cell_type": "markdown",
      "source": [
        "Show! Agora eu tenho um DataFrame com o consolidado por jogador. Fiz o webscraping, consolidei os dados e tratei o que precisava. Agora, vou analisar as informações que obtive:"
      ],
      "metadata": {
        "id": "X-ZW4PhC1Nfc"
      }
    },
    {
      "cell_type": "code",
      "source": [
        "Tx_assist = df_jogadores.A / df_jogadores.J_assist\n",
        "Tx_gols = df_jogadores.G / df_jogadores.J_gols\n",
        "\n",
        "for idx, valor in Tx_assist.items():\n",
        "    nome_jogador = df_jogadores.loc[idx, 'Nome']\n",
        "    print(f\"{nome_jogador} {idx}: {valor:.2f}\")"
      ],
      "metadata": {
        "colab": {
          "base_uri": "https://localhost:8080/"
        },
        "id": "nSHcpGycPVx4",
        "outputId": "45340260-f4c0-4e90-8fd8-160223b922d1"
      },
      "execution_count": 32,
      "outputs": [
        {
          "output_type": "stream",
          "name": "stdout",
          "text": [
            "Rodrigo Garro 0: 0.16\n",
            "Ángel Romero 1: 0.00\n",
            "Yuri Alberto 2: 0.20\n",
            "Cacá 3: 0.10\n",
            "Wesley Ribeiro 4: 0.04\n",
            "Talles Magno 5: nan\n",
            "Igor Coronado 6: 0.09\n",
            "Matheus Bidu 7: 0.08\n",
            "Giovane 8: 0.00\n",
            "Pedro Henrique 9: 0.10\n",
            "Raniele 10: 0.00\n",
            "Hugo 11: 0.18\n",
            "Mateuzinho 12: 0.00\n",
            "Breno Bidon 13: 0.00\n",
            "Félix Torres 14: 0.00\n",
            "Pedro Raúl 15: 0.00\n",
            "Fagner 16: 0.08\n",
            "Hugo Souza 17: 0.00\n",
            "Ryan 18: 0.00\n",
            "Gustavo Henrique 19: 0.00\n",
            "André Ramalho 20: 0.00\n",
            "Matheus Donelli 21: 0.00\n",
            "Carlos Miguel 22: 0.00\n",
            "Charles 23: 0.00\n",
            "Alex Santana 24: nan\n",
            "Caetano 25: nan\n",
            "Maycon 26: nan\n",
            "Léo Mana 27: nan\n",
            "Renato Santos 28: nan\n",
            "Diego Palacios 29: nan\n",
            "Felipe Longo 30: nan\n"
          ]
        }
      ]
    },
    {
      "cell_type": "markdown",
      "source": [],
      "metadata": {
        "id": "ngZ3m5aqPTmz"
      }
    },
    {
      "cell_type": "markdown",
      "source": [
        "Análise de Gols e Assistências:\n",
        "\n",
        "Taxas (Eficiência):\n",
        "\n",
        "Taxa de conversão de gols por jogo.\n",
        "Taxa de assistências por jogo.\n",
        "Taxa de cartões por jogo.\n",
        "\n",
        "Distribuição de gols e assistências.\n",
        "Jogadores sem contribuição.\n",
        "Correlação entre Gols e Assistências:\n",
        "\n",
        "Verificar relação entre os que marcam e os que assistem.\n",
        "Análise de Cartões (CA e CV):\n",
        "\n",
        "Jogadores com mais cartões.\n",
        "Impacto dos cartões nos jogos disputados.\n",
        "Jogadores Completos:\n",
        "\n",
        "Identificar os que marcaram, assistiram e receberam cartões.\n",
        "Ranking de Jogadores:\n",
        "\n",
        "Criar pontuação combinada de desempenho (gols, assistências e penalidade por cartões).\n",
        "Desempenho vs. Indisciplina:\n",
        "\n",
        "Jogadores com bom desempenho e muitos cartões.\n",
        "Jogadores mais Participativos:\n",
        "\n",
        "Jogadores com mais jogos disputados.\n",
        "Desempenho por Posição:\n",
        "\n",
        "Analisar por posição o desempenho em gols, assistências e cartões.\n",
        "Outliers:\n",
        "\n",
        "Detectar jogadores com desempenho excepcional ou muito abaixo da média."
      ],
      "metadata": {
        "id": "mj2dsOsju8jd"
      }
    }
  ]
}